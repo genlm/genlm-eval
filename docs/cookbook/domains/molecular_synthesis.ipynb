{
 "cells": [
  {
   "cell_type": "markdown",
   "metadata": {},
   "source": [
    "# Molecular Synthesis\n",
    "\n",
    "This example shows how to evaluate a `genlm.control` model on the molecular synthesis domain.\n",
    "\n",
    "* **Task**: Produce drug-like compounds using the SMILES notation (Weininger, 1988). \n",
    "* **Data**: Few-shot prompts created by repeatedly selecting 20 random samples from the GDB-17 database (Ruddigkeit et al., 2012).\n",
    "\n",
    "## Setup\n",
    "\n",
    "First, install the dependencies for this domain. In the root directory, run:    \n",
    "\n",
    "```bash\n",
    "pip install -e .[molecules]\n",
    "```\n",
    "\n",
    "Second, download the `GDB17_sample.txt` file, which contains 30 molecules. \n",
    "\n",
    "This file is taken from the GDB17 dataset, which can be downloaded from https://gdb.unibe.ch/downloads/. For a full evaluation, download the GDB-17-Set (50 million) file."
   ]
  },
  {
   "cell_type": "markdown",
   "metadata": {},
   "source": [
    "## Usage "
   ]
  },
  {
   "cell_type": "markdown",
   "metadata": {},
   "source": [
    "### Initialize the dataset and evaluator"
   ]
  },
  {
   "cell_type": "code",
   "execution_count": 1,
   "metadata": {},
   "outputs": [
    {
     "name": "stderr",
     "output_type": "stream",
     "text": [
      "/opt/homebrew/Caskroom/miniconda/base/envs/genlm/lib/python3.11/site-packages/tqdm/auto.py:21: TqdmWarning: IProgress not found. Please update jupyter and ipywidgets. See https://ipywidgets.readthedocs.io/en/stable/user_install.html\n",
      "  from .autonotebook import tqdm as notebook_tqdm\n"
     ]
    }
   ],
   "source": [
    "from genlm.eval.domains.molecular_synthesis import (\n",
    "    MolecularSynthesisDataset,\n",
    "    MolecularSynthesisEvaluator,\n",
    ")"
   ]
  },
  {
   "cell_type": "code",
   "execution_count": 2,
   "metadata": {},
   "outputs": [],
   "source": [
    "# Sample 5 instances each with 5 molecules to use as few-shot examples\n",
    "dataset = MolecularSynthesisDataset.from_smiles(\n",
    "    \"../../../assets/molecular_synthesis/GDB17_sample.txt\", n_molecules=5, n_instances=5\n",
    ")\n",
    "\n",
    "evaluator = MolecularSynthesisEvaluator()"
   ]
  },
  {
   "cell_type": "markdown",
   "metadata": {},
   "source": [
    "### Define a model adaptor\n",
    "\n",
    "A model adaptor is an async callable that takes a `PatternMatchingInstance` and returns a `ModelOutput`. For this example, we'll use a `genlm.control.PromptedLLM` constrained to generate valid SMILES (via the `PartialSMILES` potential) to generate responses."
   ]
  },
  {
   "cell_type": "code",
   "execution_count": 3,
   "metadata": {},
   "outputs": [
    {
     "name": "stderr",
     "output_type": "stream",
     "text": [
      "/opt/homebrew/Caskroom/miniconda/base/envs/genlm/lib/python3.11/site-packages/genlm/backend/tokenization/vocab.py:98: UserWarning: Duplicate tokens found in string vocabulary. This may lead to downstream issues with the string vocabulary; we recommend using the byte vocabulary.\n",
      "  warnings.warn(\n"
     ]
    }
   ],
   "source": [
    "from genlm.control import PromptedLLM, AWRS\n",
    "from genlm.eval import ModelOutput, ModelResponse\n",
    "from genlm.eval.domains.molecular_synthesis import (\n",
    "    default_prompt_formatter,\n",
    "    PartialSMILES,\n",
    ")\n",
    "\n",
    "# Load an LLM\n",
    "LLM = PromptedLLM.from_name(\"gpt2\", eos_tokens=[b\"\\n\", b\"\\n\\n\"])\n",
    "\n",
    "\n",
    "async def model(instance, output_dir, replicate):\n",
    "    # Set the prompt for the LLM.\n",
    "    LLM.prompt_ids = default_prompt_formatter(\n",
    "        LLM.model.tokenizer, instance, use_chat_format=False\n",
    "    )\n",
    "\n",
    "    # Define a potential that ensures the generated molecules are valid SMILES\n",
    "    potential = PartialSMILES().coerce(LLM, f=b\"\".join)\n",
    "\n",
    "    # Define an adaptive weighted rejection sampler to sample tokens from the constrained model.\n",
    "    sampler = AWRS(LLM, potential)\n",
    "\n",
    "    # Run SMC to sample sequences from the constrained model.\n",
    "    sequences = await sampler.smc(\n",
    "        n_particles=5,\n",
    "        ess_threshold=0.5,\n",
    "        max_tokens=100,\n",
    "    )\n",
    "\n",
    "    # Return the sampled sequences and their probabilities as a ModelOutput.\n",
    "    return ModelOutput(\n",
    "        responses=[\n",
    "            ModelResponse(response=sequence, weight=prob)\n",
    "            for sequence, prob in sequences.decoded_posterior.items()\n",
    "        ],\n",
    "    )"
   ]
  },
  {
   "cell_type": "markdown",
   "metadata": {},
   "source": [
    "### Run the evaluation"
   ]
  },
  {
   "cell_type": "code",
   "execution_count": 4,
   "metadata": {},
   "outputs": [
    {
     "name": "stdout",
     "output_type": "stream",
     "text": [
      "Instance instance_id=0 molecules=['BrC1=C2C3CC33C(NCS3(=O)=O)C2=CC=C1\\n', 'BrC1=C2C3C4COC(=NCC2=NSC1=O)C34\\n', 'BrC1=C2C3=C4C(CC3CCC2=O)C(=N)NC4=N1\\n', 'BrC1=C2C3C4C3N(CC4C#C)C2=NC(=O)S1\\n', 'BrC1=C2C3C4CC(C3CC2=NC(=N)O1)C(=O)O4\\n']\n",
      "Mean weighted accuracy (instance): 0.6121801531912207\n",
      "Mean weighted accuracy (total): 0.6121801531912207\n",
      "\n",
      "Instance instance_id=1 molecules=['BrC1=C2C3CC3C=CCC#CC1=CSC2=N', 'BrC1=C2C3CC3C3=C(C=NS3)N2C(=N)C=N1\\n', 'BrC1=C2C3C4NC4C(C3C#C)C2=NSC1=O\\n', 'BrC1=C2C3C4CC4C(C3C=O)C2=NNS1(=O)=O\\n', 'BrC1=C2C3C4NC=NC4C3OC2=CSC1=N\\n']\n",
      "Mean weighted accuracy (instance): 0.0\n",
      "Mean weighted accuracy (total): 0.3060900765956103\n",
      "\n"
     ]
    }
   ],
   "source": [
    "from genlm.eval import run_evaluation\n",
    "\n",
    "results = await run_evaluation(\n",
    "    dataset=dataset,\n",
    "    model=model,\n",
    "    evaluator=evaluator,\n",
    "    max_instances=2,\n",
    "    n_replicates=1,\n",
    "    verbosity=1,\n",
    "    # output_dir=\"molecular_synthesis_results\", optionally save the results to a directory\n",
    ")"
   ]
  },
  {
   "cell_type": "code",
   "execution_count": 5,
   "metadata": {},
   "outputs": [
    {
     "data": {
      "text/plain": [
       "dict_keys(['average_weighted_accuracy', 'n_instances', 'all_instance_results', 'all_instance_outputs'])"
      ]
     },
     "execution_count": 5,
     "metadata": {},
     "output_type": "execute_result"
    }
   ],
   "source": [
    "results.keys()"
   ]
  },
  {
   "cell_type": "markdown",
   "metadata": {},
   "source": [
    "## References\n",
    "\n",
    "Lars Ruddigkeit, Ruud Van Deursen, Lorenz C Blum, and Jean-Louis Reymond. Enu-\n",
    "meration of 166 billion organic small molecules in the chemical universe database\n",
    "gdb-17. Journal of chemical information and modeling, 52(11):2864–2875, 2012. URL\n",
    "https://pubs.acs.org/doi/pdf/10.1021/ci300415d.\n",
    "\n",
    "David Weininger. Smiles, a chemical language and information system. 1. introduction to\n",
    "methodology and encoding rules. Journal of chemical information and computer sciences, 28\n",
    "(1):31–36, 1988."
   ]
  }
 ],
 "metadata": {
  "kernelspec": {
   "display_name": "genlm",
   "language": "python",
   "name": "python3"
  },
  "language_info": {
   "codemirror_mode": {
    "name": "ipython",
    "version": 3
   },
   "file_extension": ".py",
   "mimetype": "text/x-python",
   "name": "python",
   "nbconvert_exporter": "python",
   "pygments_lexer": "ipython3",
   "version": "3.11.11"
  }
 },
 "nbformat": 4,
 "nbformat_minor": 2
}
